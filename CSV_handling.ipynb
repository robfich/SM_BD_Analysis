{
 "cells": [
  {
   "cell_type": "code",
   "execution_count": 1,
   "metadata": {
    "collapsed": true
   },
   "outputs": [],
   "source": [
    "import pandas as pd\n",
    "import re\n",
    "from textblob_de import TextBlobDE as TextBlob"
   ]
  },
  {
   "cell_type": "code",
   "execution_count": null,
   "outputs": [],
   "source": [
    "df_AVAX = pd.read_csv('financeData/AVAX-USD.csv')\n",
    "df_AVAX['Crypto'] = 'AVAX'\n",
    "df_BTC = pd.read_csv('financeData/BTC-USD.csv')\n",
    "df_BTC['Crypto'] = 'BTC'\n",
    "df_ETH = pd.read_csv('financeData/ETH-USD.csv')\n",
    "df_ETH['Crypto'] = 'ETH'\n",
    "df_SHIB = pd.read_csv('financeData/SHIB-USD.csv')\n",
    "df_SHIB['Crypto'] = 'SHIB'\n",
    "\n",
    "all_data = pd.concat([df_AVAX,df_BTC,df_ETH,df_SHIB], ignore_index=True, sort=False)"
   ],
   "metadata": {
    "collapsed": false,
    "pycharm": {
     "name": "#%%\n"
    }
   }
  },
  {
   "cell_type": "code",
   "execution_count": 2,
   "outputs": [
    {
     "name": "stdout",
     "output_type": "stream",
     "text": [
      "['AVAX' 'BTC' 'ETH' 'SHIB']\n"
     ]
    }
   ],
   "source": [
    "cols = all_data.columns.tolist()\n",
    "cols = cols[-1:] + cols[:-1]\n",
    "all_data = all_data[cols]\n",
    "\n",
    "all_data.head()\n",
    "\n",
    "print(all_data['Crypto'].unique())"
   ],
   "metadata": {
    "collapsed": false,
    "pycharm": {
     "name": "#%%\n"
    }
   }
  },
  {
   "cell_type": "code",
   "execution_count": 4,
   "outputs": [],
   "source": [
    "all_data.to_csv('financeData/allCurrencies.csv')"
   ],
   "metadata": {
    "collapsed": false,
    "pycharm": {
     "name": "#%%\n"
    }
   }
  },
  {
   "cell_type": "code",
   "execution_count": 2,
   "outputs": [],
   "source": [
    "def getBTC(column):\n",
    "    if(re.search('BTC',str(column['selftext']),re.IGNORECASE)) or (re.search('Bitcoin',str(column['selftext']),re.IGNORECASE))\\\n",
    "            or (re.search('BTC',str(column['title']),re.IGNORECASE)) or (re.search('Bitcoin',str(column['title']),re.IGNORECASE)):\n",
    "        return True\n",
    "    else:\n",
    "        return False\n",
    "def getETH(column):\n",
    "    if(re.search('ETH',str(column['selftext']),re.IGNORECASE)) or (re.search('Ethereum',str(column['selftext']),re.IGNORECASE))\\\n",
    "            or (re.search('ETH',str(column['title']),re.IGNORECASE)) or (re.search('Ethereum',str(column['title']),re.IGNORECASE)):\n",
    "        return True\n",
    "    else:\n",
    "        return False\n",
    "def getAVAX(column):\n",
    "    if(re.search('AVAX',str(column['selftext']),re.IGNORECASE)) or (re.search('Avalanche',str(column['selftext']),re.IGNORECASE))\\\n",
    "            or (re.search('AVAX',str(column['title']),re.IGNORECASE)) or (re.search('Avalanche',str(column['title']),re.IGNORECASE)):\n",
    "        return True\n",
    "    else:\n",
    "        return False\n",
    "def getSHIB(column):\n",
    "    if(re.search('SHIB',str(column['selftext']),re.IGNORECASE)) or (re.search('Shiba',str(column['selftext']),re.IGNORECASE))\\\n",
    "            or (re.search('SHIB',str(column['title']),re.IGNORECASE)) or (re.search('Shiba',str(column['title']),re.IGNORECASE)):\n",
    "        return True\n",
    "    else:\n",
    "        return False\n",
    "def ermittleSentiment(text):\n",
    "    blob = TextBlob(str(text))\n",
    "    return blob.sentiment.polarity"
   ],
   "metadata": {
    "collapsed": false,
    "pycharm": {
     "name": "#%%\n"
    }
   }
  },
  {
   "cell_type": "code",
   "execution_count": 3,
   "outputs": [],
   "source": [
    "df_reddit = pd.read_csv('redditdaten.csv',index_col=0)\n",
    "\n",
    "df_reddit['BTC'] = df_reddit.apply(lambda row: getBTC(row),axis=1)\n",
    "df_reddit['ETH'] = df_reddit.apply(lambda row: getETH(row),axis=1)\n",
    "df_reddit['AVAX'] = df_reddit.apply(lambda row: getAVAX(row),axis=1)\n",
    "df_reddit['SHIB'] = df_reddit.apply(lambda row: getSHIB(row),axis=1)\n",
    "df_reddit['Sentiment'] = df_reddit.apply(lambda row: ermittleSentiment(row['selftext']),axis=1)"
   ],
   "metadata": {
    "collapsed": false,
    "pycharm": {
     "name": "#%%\n"
    }
   }
  },
  {
   "cell_type": "code",
   "execution_count": 4,
   "outputs": [],
   "source": [
    "df_reddit.to_csv('redditdaten.csv')\n",
    "\n",
    "\n",
    "\n",
    "\n",
    "\n"
   ],
   "metadata": {
    "collapsed": false,
    "pycharm": {
     "name": "#%%\n"
    }
   }
  }
 ],
 "metadata": {
  "kernelspec": {
   "display_name": "Python 3",
   "language": "python",
   "name": "python3"
  },
  "language_info": {
   "codemirror_mode": {
    "name": "ipython",
    "version": 2
   },
   "file_extension": ".py",
   "mimetype": "text/x-python",
   "name": "python",
   "nbconvert_exporter": "python",
   "pygments_lexer": "ipython2",
   "version": "2.7.6"
  }
 },
 "nbformat": 4,
 "nbformat_minor": 0
}