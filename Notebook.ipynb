{
 "cells": [
  {
   "cell_type": "markdown",
   "source": [
    "<h1>SM_BD_Analysis</h1>"
   ],
   "metadata": {
    "collapsed": false
   }
  },
  {
   "cell_type": "code",
   "execution_count": 1,
   "outputs": [],
   "source": [
    "import tweepy\n",
    "import pandas as pd\n",
    "import matplotlib.pyplot as plt\n",
    "from datetime import datetime"
   ],
   "metadata": {
    "collapsed": false,
    "pycharm": {
     "name": "#%%\n"
    }
   }
  },
  {
   "cell_type": "markdown",
   "source": [
    "<h2>Daten aus Twitter</h2>"
   ],
   "metadata": {
    "collapsed": false
   }
  },
  {
   "cell_type": "markdown",
   "source": [
    "<h3>Authentifizierung</h3>"
   ],
   "metadata": {
    "collapsed": false,
    "pycharm": {
     "name": "#%% md\n"
    }
   }
  },
  {
   "cell_type": "code",
   "source": [
    "TWITTER_API_KEY='TWITTER_API_KEY'\n",
    "TWITTER_API_KEY_SECRET='TWITTER_API_KEY_SECRET'\n",
    "TWITTER_BEARER_TOKEN='TWITTER_BEARER_TOKEN'\n",
    "TWITTER_ACCESS_TOKEN='TWITTER_ACCESS_TOKEN'\n",
    "TWITTER_ACCESS_TOKEN_SECRET='TWITTER_ACCESS_TOKEN_SECRET'\n",
    "\n",
    "\n",
    "twitterParams = {}\n",
    "twitterfile = open(\"secrets/twitterParams.txt\")\n",
    "for line in twitterfile:\n",
    "    keyValue  = line.strip().split(\"=\")\n",
    "    twitterParams[keyValue[0].strip()] = keyValue[1].strip()\n"
   ],
   "metadata": {
    "collapsed": false,
    "pycharm": {
     "name": "#%%\n"
    }
   },
   "execution_count": 2,
   "outputs": []
  },
  {
   "cell_type": "markdown",
   "source": [
    "<h3>Nutzen der Tweepy Bibliothek</h3>"
   ],
   "metadata": {
    "collapsed": false,
    "pycharm": {
     "name": "#%% md\n"
    }
   }
  },
  {
   "cell_type": "code",
   "execution_count": 3,
   "outputs": [],
   "source": [
    "client = tweepy.Client(bearer_token=twitterParams[TWITTER_BEARER_TOKEN])\n",
    "\n",
    "tweet_count = client.get_recent_tweets_count(query='#BTC',granularity='day')"
   ],
   "metadata": {
    "collapsed": false,
    "pycharm": {
     "name": "#%%\n"
    }
   }
  },
  {
   "cell_type": "markdown",
   "source": [
    "<h3>Preprocessing</h3>"
   ],
   "metadata": {
    "collapsed": false
   }
  },
  {
   "cell_type": "code",
   "execution_count": 4,
   "outputs": [],
   "source": [
    "df_btc_tweet_count = pd.DataFrame(tweet_count.data)\n",
    "df_btc_tweet_count['start']=df_btc_tweet_count['start'].apply(lambda x: x[5:10])\n"
   ],
   "metadata": {
    "collapsed": false,
    "pycharm": {
     "name": "#%%\n"
    }
   }
  },
  {
   "cell_type": "markdown",
   "source": [
    "<h3>Visualisierung</h3>"
   ],
   "metadata": {
    "collapsed": false,
    "pycharm": {
     "name": "#%% md\n"
    }
   }
  },
  {
   "cell_type": "code",
   "execution_count": 5,
   "outputs": [
    {
     "data": {
      "text/plain": "Text(0.5, 0.98, 'Bitcoin-Tweets')"
     },
     "execution_count": 5,
     "metadata": {},
     "output_type": "execute_result"
    },
    {
     "data": {
      "text/plain": "<Figure size 432x288 with 1 Axes>",
      "image/png": "[encoded data removed]"
     },
     "metadata": {
      "needs_background": "light"
     },
     "output_type": "display_data"
    }
   ],
   "source": [
    "names = df_btc_tweet_count['start']\n",
    "values = df_btc_tweet_count['tweet_count']\n",
    "\n",
    "fig, ax = plt.subplots()\n",
    "ax.plot(names, values)\n",
    "ax.set_xlabel('Datum')\n",
    "ax.set_ylabel('Tweets')\n",
    "ax.grid(True)\n",
    "fig.suptitle('Bitcoin-Tweets')"
   ],
   "metadata": {
    "collapsed": false,
    "pycharm": {
     "name": "#%%\n"
    }
   }
  },
  {
   "cell_type": "code",
   "execution_count": 6,
   "outputs": [],
   "source": [
    "import requests\n",
    "\n",
    "# note that CLIENT_ID refers to 'personal use script' and SECRET_TOKEN to 'token'\n",
    "auth = requests.auth.HTTPBasicAuth('CLIENT ID', 'SECRET TOKEN')\n",
    "\n",
    "# here we pass our login method (password), username, and password\n",
    "data = {'grant_type': 'password',\n",
    "        'username': 'NAME',\n",
    "        'password': 'PASSWORT'}\n",
    "\n",
    "# setup our header info, which gives reddit a brief description of our app\n",
    "headers = {'User-Agent': 'SM_BD_Analysis/0.0.1'}\n",
    "\n",
    "# send our request for an OAuth token\n",
    "res = requests.post('https://www.reddit.com/api/v1/access_token',\n",
    "                    auth=auth, data=data, headers=headers)\n",
    "\n",
    "# convert response to JSON and pull access_token value\n",
    "TOKEN = res.json()['access_token']\n",
    "\n",
    "# add authorization to our headers dictionary\n",
    "headers = {**headers, **{'Authorization': f\"bearer {TOKEN}\"}}\n",
    "\n",
    "# while the token is valid (~2 hours) we just add headers=headers to our requests"
   ],
   "metadata": {
    "collapsed": false,
    "pycharm": {
     "name": "#%%\n"
    }
   }
  },
  {
   "cell_type": "code",
   "execution_count": 10,
   "outputs": [
    {
     "data": {
      "text/plain": "        subreddit                                              title  \\\n0  CryptoCurrency  5 things to know about S’pore-based Crypto.com...   \n1  CryptoCurrency  ALICE, one of the older NFT games is somehow c...   \n2  CryptoCurrency  Do you ever question your lowcap investments o...   \n3  CryptoCurrency  Here's CNBC writting an article on how you can...   \n4  CryptoCurrency                       Algorand the next big thing?   \n\n                                            selftext             created  \n0                                                    2021-11-20 15:19:32  \n1  Hey guys, so I think you are already familiar ... 2021-11-20 15:18:48  \n2  This has happened a few times to me. I see a d... 2021-11-20 15:17:35  \n3                                                    2021-11-20 15:17:11  \n4  Algo was created in 2019 by Silvio Micali who ... 2021-11-20 15:17:07  ",
      "text/html": "<div>\n<style scoped>\n    .dataframe tbody tr th:only-of-type {\n        vertical-align: middle;\n    }\n\n    .dataframe tbody tr th {\n        vertical-align: top;\n    }\n\n    .dataframe thead th {\n        text-align: right;\n    }\n</style>\n<table border=\"1\" class=\"dataframe\">\n  <thead>\n    <tr style=\"text-align: right;\">\n      <th></th>\n      <th>subreddit</th>\n      <th>title</th>\n      <th>selftext</th>\n      <th>created</th>\n    </tr>\n  </thead>\n  <tbody>\n    <tr>\n      <th>0</th>\n      <td>CryptoCurrency</td>\n      <td>5 things to know about S’pore-based Crypto.com...</td>\n      <td></td>\n      <td>2021-11-20 15:19:32</td>\n    </tr>\n    <tr>\n      <th>1</th>\n      <td>CryptoCurrency</td>\n      <td>ALICE, one of the older NFT games is somehow c...</td>\n      <td>Hey guys, so I think you are already familiar ...</td>\n      <td>2021-11-20 15:18:48</td>\n    </tr>\n    <tr>\n      <th>2</th>\n      <td>CryptoCurrency</td>\n      <td>Do you ever question your lowcap investments o...</td>\n      <td>This has happened a few times to me. I see a d...</td>\n      <td>2021-11-20 15:17:35</td>\n    </tr>\n    <tr>\n      <th>3</th>\n      <td>CryptoCurrency</td>\n      <td>Here's CNBC writting an article on how you can...</td>\n      <td></td>\n      <td>2021-11-20 15:17:11</td>\n    </tr>\n    <tr>\n      <th>4</th>\n      <td>CryptoCurrency</td>\n      <td>Algorand the next big thing?</td>\n      <td>Algo was created in 2019 by Silvio Micali who ...</td>\n      <td>2021-11-20 15:17:07</td>\n    </tr>\n  </tbody>\n</table>\n</div>"
     },
     "execution_count": 10,
     "metadata": {},
     "output_type": "execute_result"
    }
   ],
   "source": [
    "res=requests.get('https://oauth.reddit.com/r/CryptoCurrency/new?limit=100',headers=headers)\n",
    "\n",
    "df = pd.DataFrame()  # initialize dataframe\n",
    "\n",
    "for post in res.json()['data']['children']:\n",
    "    df = df.append({\n",
    "        'subreddit': post['data']['subreddit'],\n",
    "        'title': post['data']['title'],\n",
    "        'selftext': post['data']['selftext'],\n",
    "        'upvotes': post['data']['ups'],\n",
    "        'downvotes': post['data']['downs'],\n",
    "        'created': datetime.fromtimestamp(post['data']['created'])\n",
    "    }, ignore_index=True)\n",
    "\n",
    "df.head()"
   ],
   "metadata": {
    "collapsed": false,
    "pycharm": {
     "name": "#%%\n"
    }
   }
  },
  {
   "cell_type": "code",
   "execution_count": 8,
   "outputs": [
    {
     "name": "stdout",
     "output_type": "stream",
     "text": [
      "1637417855.0\n",
      "dt_object = 2021-11-20 15:17:35\n",
      "type(dt_object) = <class 'datetime.datetime'>\n",
      "test\n"
     ]
    }
   ],
   "source": [
    "print(df['created'][0])\n",
    "timestamp = df['created'][0]\n",
    "dt_object = datetime.fromtimestamp(timestamp)\n",
    "\n",
    "print(\"dt_object =\", dt_object)\n",
    "print(\"type(dt_object) =\", type(dt_object))\n",
    "print(\"test\")\n"
   ],
   "metadata": {
    "collapsed": false,
    "pycharm": {
     "name": "#%%\n"
    }
   }
  }
 ],
 "metadata": {
  "kernelspec": {
   "name": "pycharm-6943e79b",
   "language": "python",
   "display_name": "PyCharm (SM_BD_Analysis)"
  },
  "language_info": {
   "codemirror_mode": {
    "name": "ipython",
    "version": 2
   },
   "file_extension": ".py",
   "mimetype": "text/x-python",
   "name": "python",
   "nbconvert_exporter": "python",
   "pygments_lexer": "ipython2",
   "version": "2.7.6"
  }
 },
 "nbformat": 4,
 "nbformat_minor": 0
}