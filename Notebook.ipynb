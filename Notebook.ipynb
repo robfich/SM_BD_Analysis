{
 "cells": [
  {
   "cell_type": "markdown",
   "source": [
    "<h1>DM_BD_Analysis</h1>"
   ],
   "metadata": {
    "collapsed": false
   }
  },
  {
   "cell_type": "code",
   "execution_count": 1,
   "outputs": [],
   "source": [
    "import tweepy\n",
    "import pandas as pd\n",
    "import matplotlib.pyplot as plt"
   ],
   "metadata": {
    "collapsed": false,
    "pycharm": {
     "name": "#%%\n"
    }
   }
  },
  {
   "cell_type": "markdown",
   "source": [
    "<h2>Daten aus Twitter</h2>"
   ],
   "metadata": {
    "collapsed": false
   }
  },
  {
   "cell_type": "markdown",
   "source": [
    "<h3>Authentifizierung</h3>"
   ],
   "metadata": {
    "collapsed": false,
    "pycharm": {
     "name": "#%% md\n"
    }
   }
  },
  {
   "cell_type": "code",
   "source": [
    "TWITTER_API_KEY='TWITTER_API_KEY'\n",
    "TWITTER_API_KEY_SECRET='TWITTER_API_KEY_SECRET'\n",
    "TWITTER_BEARER_TOKEN='TWITTER_BEARER_TOKEN'\n",
    "TWITTER_ACCESS_TOKEN='TWITTER_ACCESS_TOKEN'\n",
    "TWITTER_ACCESS_TOKEN_SECRET='TWITTER_ACCESS_TOKEN_SECRET'\n",
    "\n",
    "\n",
    "twitterParams = {}\n",
    "twitterfile = open(\"secrets/twitterParams.txt\")\n",
    "for line in twitterfile:\n",
    "    keyValue  = line.strip().split(\"=\")\n",
    "    twitterParams[keyValue[0].strip()] = keyValue[1].strip()\n"
   ],
   "metadata": {
    "collapsed": false,
    "pycharm": {
     "name": "#%%\n"
    }
   },
   "execution_count": 2,
   "outputs": []
  },
  {
   "cell_type": "markdown",
   "source": [
    "<h3>Nutzen der Tweepy Bibliothek</h3>"
   ],
   "metadata": {
    "collapsed": false,
    "pycharm": {
     "name": "#%% md\n"
    }
   }
  },
  {
   "cell_type": "code",
   "execution_count": 3,
   "outputs": [],
   "source": [
    "client = tweepy.Client(bearer_token=twitterParams[TWITTER_BEARER_TOKEN])\n",
    "\n",
    "tweet_count = client.get_recent_tweets_count(query='#BTC',granularity='day')\n"
   ],
   "metadata": {
    "collapsed": false,
    "pycharm": {
     "name": "#%%\n"
    }
   }
  },
  {
   "cell_type": "markdown",
   "source": [
    "<h3>Preprocessing</h3>"
   ],
   "metadata": {
    "collapsed": false
   }
  },
  {
   "cell_type": "code",
   "execution_count": 4,
   "outputs": [],
   "source": [
    "df_btc_tweet_count = pd.DataFrame(tweet_count.data)\n",
    "df_btc_tweet_count['start']=df_btc_tweet_count['start'].apply(lambda x: x[5:10])\n"
   ],
   "metadata": {
    "collapsed": false,
    "pycharm": {
     "name": "#%%\n"
    }
   }
  },
  {
   "cell_type": "markdown",
   "source": [
    "<h3>Visualisierung</h3>"
   ],
   "metadata": {
    "collapsed": false,
    "pycharm": {
     "name": "#%% md\n"
    }
   }
  },
  {
   "cell_type": "code",
   "execution_count": 5,
   "outputs": [
    {
     "data": {
      "text/plain": "Text(0.5, 0.98, 'Bitcoin-Tweets')"
     },
     "execution_count": 5,
     "metadata": {},
     "output_type": "execute_result"
    },
    {
     "data": {
      "text/plain": "<Figure size 432x288 with 1 Axes>",
      "image/png": "[encoded data removed]"
     },
     "metadata": {
      "needs_background": "light"
     },
     "output_type": "display_data"
    }
   ],
   "source": [
    "names = df_btc_tweet_count['start']\n",
    "values = df_btc_tweet_count['tweet_count']\n",
    "\n",
    "fig, ax = plt.subplots()\n",
    "ax.plot(names, values)\n",
    "ax.set_xlabel('Datum')\n",
    "ax.set_ylabel('Tweets')\n",
    "ax.grid(True)\n",
    "fig.suptitle('Bitcoin-Tweets')"
   ],
   "metadata": {
    "collapsed": false,
    "pycharm": {
     "name": "#%%\n"
    }
   }
  }
 ],
 "metadata": {
  "kernelspec": {
   "name": "pycharm-6943e79b",
   "language": "python",
   "display_name": "PyCharm (SM_BD_Analysis)"
  },
  "language_info": {
   "codemirror_mode": {
    "name": "ipython",
    "version": 2
   },
   "file_extension": ".py",
   "mimetype": "text/x-python",
   "name": "python",
   "nbconvert_exporter": "python",
   "pygments_lexer": "ipython2",
   "version": "2.7.6"
  }
 },
 "nbformat": 4,
 "nbformat_minor": 0
}