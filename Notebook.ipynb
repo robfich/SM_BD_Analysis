{
 "cells": [
  {
   "cell_type": "code",
   "execution_count": 1,
   "metadata": {
    "collapsed": true,
    "pycharm": {
     "name": "#%%\n"
    }
   },
   "outputs": [
    {
     "name": "stdout",
     "output_type": "stream",
     "text": [
      "Start der Analyse\n"
     ]
    }
   ],
   "source": [
    "print(\"Start der Analyse\")"
   ]
  }
 ],
 "metadata": {
  "kernelspec": {
   "name": "pycharm-6943e79b",
   "language": "python",
   "display_name": "PyCharm (SM_BD_Analysis)"
  },
  "language_info": {
   "codemirror_mode": {
    "name": "ipython",
    "version": 2
   },
   "file_extension": ".py",
   "mimetype": "text/x-python",
   "name": "python",
   "nbconvert_exporter": "python",
   "pygments_lexer": "ipython2",
   "version": "2.7.6"
  }
 },
 "nbformat": 4,
 "nbformat_minor": 0
}