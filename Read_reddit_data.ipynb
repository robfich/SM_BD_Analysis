{
 "cells": [
  {
   "cell_type": "markdown",
   "source": [
    "<h1>Reddit API</h1>"
   ],
   "metadata": {
    "collapsed": false,
    "pycharm": {
     "name": "#%% md\n"
    }
   }
  },
  {
   "cell_type": "markdown",
   "source": [
    "<h3>Imports</h3>"
   ],
   "metadata": {
    "collapsed": false
   }
  },
  {
   "cell_type": "code",
   "execution_count": 1,
   "outputs": [],
   "source": [
    "import pandas as pd\n",
    "from time import sleep\n",
    "from datetime import datetime\n",
    "import requests\n",
    "\n",
    "BEGINN_DATUM = int(datetime(year=2021, month=8, day=1).timestamp())\n",
    "ENDE_DATUM = int(datetime(year=2021, month=8, day=2).timestamp())\n",
    "\n",
    "SUBREDDITS = ['CryptoCurrency','Bitcoin']"
   ],
   "metadata": {
    "collapsed": false,
    "pycharm": {
     "name": "#%%\n"
    }
   }
  },
  {
   "cell_type": "markdown",
   "source": [
    "<h3>Funktion zum Laden der Posts</h3>"
   ],
   "metadata": {
    "collapsed": false
   }
  },
  {
   "cell_type": "code",
   "execution_count": 2,
   "outputs": [],
   "source": [
    "def get_posts_for_time_period(sub, beginning, end=int(datetime.now().timestamp())):\n",
    "    print(\"Querying pushshift\")\n",
    "    url = \"https://api.pushshift.io/reddit/submission/search/\" \\\n",
    "               \"?q={0}\" \\\n",
    "               \"&limit=500\" \\\n",
    "               \"&after={1}\" \\\n",
    "               \"&before={2}\".format(sub, beginning, end)\n",
    "\n",
    "    response = requests.get(url)\n",
    "    if(response.status_code == 429):\n",
    "        print(\"Pause für HTTP-TooManyRequests\")\n",
    "        sleep(0.5)\n",
    "        response = requests.get(url)\n",
    "\n",
    "    resp_json = response.json()\n",
    "\n",
    "    return resp_json['data']"
   ],
   "metadata": {
    "collapsed": false,
    "pycharm": {
     "name": "#%%\n"
    }
   }
  },
  {
   "cell_type": "markdown",
   "source": [
    "<h3>Hole Daten zu Posts</h3>"
   ],
   "metadata": {
    "collapsed": false
   }
  },
  {
   "cell_type": "code",
   "execution_count": 3,
   "outputs": [
    {
     "name": "stdout",
     "output_type": "stream",
     "text": [
      "Querying pushshift\n",
      "Hole Daten für 2021-08-01 00:58:01\n",
      "Querying pushshift\n",
      "Hole Daten für 2021-08-01 02:03:47\n",
      "Querying pushshift\n",
      "Hole Daten für 2021-08-01 03:00:17\n",
      "Querying pushshift\n",
      "Hole Daten für 2021-08-01 04:11:34\n",
      "Querying pushshift\n",
      "Hole Daten für 2021-08-01 05:31:51\n",
      "Querying pushshift\n",
      "Hole Daten für 2021-08-01 06:32:06\n",
      "Querying pushshift\n",
      "Hole Daten für 2021-08-01 07:40:57\n",
      "Querying pushshift\n",
      "Hole Daten für 2021-08-01 08:12:36\n",
      "Querying pushshift\n",
      "Hole Daten für 2021-08-01 09:13:47\n",
      "Querying pushshift\n",
      "Hole Daten für 2021-08-01 10:19:38\n",
      "Querying pushshift\n",
      "Hole Daten für 2021-08-01 11:17:45\n",
      "Querying pushshift\n",
      "Hole Daten für 2021-08-01 12:11:21\n",
      "Querying pushshift\n",
      "Hole Daten für 2021-08-01 12:54:09\n",
      "Querying pushshift\n",
      "Hole Daten für 2021-08-01 13:43:57\n",
      "Querying pushshift\n",
      "Hole Daten für 2021-08-01 15:14:28\n",
      "Querying pushshift\n",
      "Hole Daten für 2021-08-01 16:15:10\n",
      "Querying pushshift\n",
      "Hole Daten für 2021-08-01 17:11:04\n",
      "Querying pushshift\n",
      "Hole Daten für 2021-08-01 18:15:40\n",
      "Querying pushshift\n",
      "Hole Daten für 2021-08-01 18:46:26\n",
      "Querying pushshift\n",
      "Hole Daten für 2021-08-01 19:18:37\n",
      "Querying pushshift\n",
      "Hole Daten für 2021-08-01 20:04:55\n",
      "Querying pushshift\n",
      "Hole Daten für 2021-08-01 20:39:03\n",
      "Querying pushshift\n",
      "Hole Daten für 2021-08-01 21:16:10\n",
      "Querying pushshift\n",
      "Hole Daten für 2021-08-01 21:57:15\n",
      "Querying pushshift\n",
      "Hole Daten für 2021-08-01 22:43:02\n",
      "Querying pushshift\n",
      "Hole Daten für 2021-08-01 23:32:26\n",
      "Querying pushshift\n",
      "Querying pushshift\n",
      "Hole Daten für 2021-08-01 00:58:01\n",
      "Querying pushshift\n",
      "Hole Daten für 2021-08-01 02:03:47\n",
      "Querying pushshift\n",
      "Hole Daten für 2021-08-01 03:00:17\n",
      "Querying pushshift\n",
      "Pause für HTTP-TooManyRequests\n",
      "Hole Daten für 2021-08-01 04:11:34\n",
      "Querying pushshift\n",
      "Pause für HTTP-TooManyRequests\n",
      "Hole Daten für 2021-08-01 05:31:51\n",
      "Querying pushshift\n",
      "Pause für HTTP-TooManyRequests\n",
      "Hole Daten für 2021-08-01 06:32:06\n",
      "Querying pushshift\n",
      "Pause für HTTP-TooManyRequests\n",
      "Hole Daten für 2021-08-01 07:40:57\n",
      "Querying pushshift\n",
      "Pause für HTTP-TooManyRequests\n",
      "Hole Daten für 2021-08-01 08:12:36\n",
      "Querying pushshift\n",
      "Pause für HTTP-TooManyRequests\n",
      "Hole Daten für 2021-08-01 09:13:47\n",
      "Querying pushshift\n",
      "Hole Daten für 2021-08-01 10:19:38\n",
      "Querying pushshift\n",
      "Pause für HTTP-TooManyRequests\n",
      "Hole Daten für 2021-08-01 11:17:45\n",
      "Querying pushshift\n",
      "Pause für HTTP-TooManyRequests\n",
      "Hole Daten für 2021-08-01 12:11:21\n",
      "Querying pushshift\n",
      "Pause für HTTP-TooManyRequests\n",
      "Hole Daten für 2021-08-01 12:54:09\n",
      "Querying pushshift\n",
      "Pause für HTTP-TooManyRequests\n",
      "Hole Daten für 2021-08-01 13:43:57\n",
      "Querying pushshift\n",
      "Pause für HTTP-TooManyRequests\n",
      "Hole Daten für 2021-08-01 15:14:28\n",
      "Querying pushshift\n",
      "Hole Daten für 2021-08-01 16:15:10\n",
      "Querying pushshift\n",
      "Pause für HTTP-TooManyRequests\n",
      "Hole Daten für 2021-08-01 17:11:04\n",
      "Querying pushshift\n",
      "Hole Daten für 2021-08-01 18:15:40\n",
      "Querying pushshift\n",
      "Hole Daten für 2021-08-01 18:46:26\n",
      "Querying pushshift\n",
      "Pause für HTTP-TooManyRequests\n",
      "Hole Daten für 2021-08-01 19:18:37\n",
      "Querying pushshift\n",
      "Pause für HTTP-TooManyRequests\n",
      "Hole Daten für 2021-08-01 20:04:55\n",
      "Querying pushshift\n",
      "Hole Daten für 2021-08-01 20:39:03\n",
      "Querying pushshift\n",
      "Pause für HTTP-TooManyRequests\n",
      "Hole Daten für 2021-08-01 21:16:10\n",
      "Querying pushshift\n",
      "Pause für HTTP-TooManyRequests\n",
      "Hole Daten für 2021-08-01 21:57:15\n",
      "Querying pushshift\n",
      "Hole Daten für 2021-08-01 22:43:02\n",
      "Querying pushshift\n",
      "Pause für HTTP-TooManyRequests\n",
      "Hole Daten für 2021-08-01 23:32:26\n",
      "Querying pushshift\n"
     ]
    }
   ],
   "source": [
    "all_data = None\n",
    "for subreddit in SUBREDDITS:\n",
    "    beginning_timestamp = BEGINN_DATUM\n",
    "    end_timestamp = ENDE_DATUM\n",
    "    data = get_posts_for_time_period(\"CryptoCurrency\", beginning_timestamp, end_timestamp)\n",
    "    if all_data == None:\n",
    "        all_data= data\n",
    "    else:\n",
    "        all_data.extend(data)\n",
    "    while len(data) >= 50:\n",
    "        # go back for more data\n",
    "        last_one = data[len(data)-1]\n",
    "        beginning_timestamp = last_one['created_utc'] + 1\n",
    "        print('Hole Daten für '+str(datetime.fromtimestamp(beginning_timestamp)))\n",
    "        data = get_posts_for_time_period(sub=\"CryptoCurrency\", beginning=beginning_timestamp, end=end_timestamp)\n",
    "        all_data.extend(data)"
   ],
   "metadata": {
    "collapsed": false,
    "pycharm": {
     "name": "#%%\n"
    }
   }
  },
  {
   "cell_type": "markdown",
   "source": [
    "<h3>Lege benötigte Daten in Datenframe ab</h3>"
   ],
   "metadata": {
    "collapsed": false
   }
  },
  {
   "cell_type": "code",
   "execution_count": 4,
   "outputs": [
    {
     "data": {
      "text/plain": "              created                                           selftext  \\\n0 2021-08-01 00:00:40  🍕HOTCAKE🍕 ⏰ 1 SECOND OLD ON BSC 🍕  Listed On P...   \n1 2021-08-01 00:00:59  🍕HOTCAKE🍕 ⏰ 1 SECOND OLD ON BSC 🍕  Listed On P...   \n2 2021-08-01 00:01:24  🍕HOTCAKE🍕 ⏰ 1 SECOND OLD ON BSC 🍕  Listed On P...   \n3 2021-08-01 00:01:47  🍕HOTCAKE🍕 ⏰ 1 SECOND OLD ON BSC 🍕  Listed On P...   \n4 2021-08-01 00:02:13  🍕HOTCAKE🍕 ⏰ 1 SECOND OLD ON BSC 🍕  Listed On P...   \n\n           subreddit                                              title  \\\n0  CryptocurrencyICO  🍕HOTCAKE🍕 ⏰ 1 SECOND OLD ON BSC 🍕 Listed On Pa...   \n1     MarsWallStreet  🍕HOTCAKE🍕 ⏰ 1 SECOND OLD ON BSC 🍕 Listed On Pa...   \n2    CryptoMarsShots  🍕HOTCAKE🍕 ⏰ 1 SECOND OLD ON BSC 🍕 Listed On Pa...   \n3         CryptoMoon  🍕HOTCAKE🍕 ⏰ 1 SECOND OLD ON BSC 🍕 Listed On Pa...   \n4         CryptoMars  🍕HOTCAKE🍕 ⏰ 1 SECOND OLD ON BSC 🍕 Listed On Pa...   \n\n   upvoteRatio  \n0          1.0  \n1          1.0  \n2          1.0  \n3          1.0  \n4          1.0  ",
      "text/html": "<div>\n<style scoped>\n    .dataframe tbody tr th:only-of-type {\n        vertical-align: middle;\n    }\n\n    .dataframe tbody tr th {\n        vertical-align: top;\n    }\n\n    .dataframe thead th {\n        text-align: right;\n    }\n</style>\n<table border=\"1\" class=\"dataframe\">\n  <thead>\n    <tr style=\"text-align: right;\">\n      <th></th>\n      <th>created</th>\n      <th>selftext</th>\n      <th>subreddit</th>\n      <th>title</th>\n      <th>upvoteRatio</th>\n    </tr>\n  </thead>\n  <tbody>\n    <tr>\n      <th>0</th>\n      <td>2021-08-01 00:00:40</td>\n      <td>🍕HOTCAKE🍕 ⏰ 1 SECOND OLD ON BSC 🍕  Listed On P...</td>\n      <td>CryptocurrencyICO</td>\n      <td>🍕HOTCAKE🍕 ⏰ 1 SECOND OLD ON BSC 🍕 Listed On Pa...</td>\n      <td>1.0</td>\n    </tr>\n    <tr>\n      <th>1</th>\n      <td>2021-08-01 00:00:59</td>\n      <td>🍕HOTCAKE🍕 ⏰ 1 SECOND OLD ON BSC 🍕  Listed On P...</td>\n      <td>MarsWallStreet</td>\n      <td>🍕HOTCAKE🍕 ⏰ 1 SECOND OLD ON BSC 🍕 Listed On Pa...</td>\n      <td>1.0</td>\n    </tr>\n    <tr>\n      <th>2</th>\n      <td>2021-08-01 00:01:24</td>\n      <td>🍕HOTCAKE🍕 ⏰ 1 SECOND OLD ON BSC 🍕  Listed On P...</td>\n      <td>CryptoMarsShots</td>\n      <td>🍕HOTCAKE🍕 ⏰ 1 SECOND OLD ON BSC 🍕 Listed On Pa...</td>\n      <td>1.0</td>\n    </tr>\n    <tr>\n      <th>3</th>\n      <td>2021-08-01 00:01:47</td>\n      <td>🍕HOTCAKE🍕 ⏰ 1 SECOND OLD ON BSC 🍕  Listed On P...</td>\n      <td>CryptoMoon</td>\n      <td>🍕HOTCAKE🍕 ⏰ 1 SECOND OLD ON BSC 🍕 Listed On Pa...</td>\n      <td>1.0</td>\n    </tr>\n    <tr>\n      <th>4</th>\n      <td>2021-08-01 00:02:13</td>\n      <td>🍕HOTCAKE🍕 ⏰ 1 SECOND OLD ON BSC 🍕  Listed On P...</td>\n      <td>CryptoMars</td>\n      <td>🍕HOTCAKE🍕 ⏰ 1 SECOND OLD ON BSC 🍕 Listed On Pa...</td>\n      <td>1.0</td>\n    </tr>\n  </tbody>\n</table>\n</div>"
     },
     "execution_count": 4,
     "metadata": {},
     "output_type": "execute_result"
    }
   ],
   "source": [
    "df = pd.DataFrame()  # initialize dataframe\n",
    "\n",
    "for post in all_data:\n",
    "    df = df.append({\n",
    "        'subreddit': post['subreddit'],\n",
    "        'title': post['title'],\n",
    "        'selftext': post['selftext'].strip(),\n",
    "        'upvoteRatio': post['upvote_ratio'],\n",
    "        'created': datetime.fromtimestamp(post['created_utc'])\n",
    "    }, ignore_index=True)\n",
    "\n",
    "df.head()"
   ],
   "metadata": {
    "collapsed": false,
    "pycharm": {
     "name": "#%%\n"
    }
   }
  },
  {
   "cell_type": "markdown",
   "source": [
    "<h2> Preprocessing </h2>"
   ],
   "metadata": {
    "collapsed": false,
    "pycharm": {
     "name": "#%% md\n"
    }
   }
  },
  {
   "cell_type": "markdown",
   "source": [
    "<h4> Entfernen Posts ohne Text </h4>"
   ],
   "metadata": {
    "collapsed": false
   }
  },
  {
   "cell_type": "markdown",
   "source": [
    "<h4> Filtern auf Subreddit </h4>"
   ],
   "metadata": {
    "collapsed": false
   }
  },
  {
   "cell_type": "code",
   "source": [
    "df_filtered = df[df['subreddit'].apply(lambda x: x in SUBREDDITS)]"
   ],
   "metadata": {
    "collapsed": false,
    "pycharm": {
     "name": "#%%\n"
    }
   },
   "execution_count": 9,
   "outputs": []
  },
  {
   "cell_type": "markdown",
   "source": [
    "<h4> Entfernen Posts ohne Text </h4>"
   ],
   "metadata": {
    "collapsed": false,
    "pycharm": {
     "name": "#%% md\n"
    }
   }
  },
  {
   "cell_type": "code",
   "execution_count": 11,
   "outputs": [],
   "source": [
    "df_filtered = df_filtered[df_filtered['selftext']!='[removed]']\n",
    "df_filtered = df_filtered[df_filtered['selftext']!='']"
   ],
   "metadata": {
    "collapsed": false,
    "pycharm": {
     "name": "#%%\n"
    }
   }
  },
  {
   "cell_type": "markdown",
   "source": [
    "<h4> Entfernen der Umbrüche </h4>"
   ],
   "metadata": {
    "collapsed": false
   }
  },
  {
   "cell_type": "code",
   "execution_count": 12,
   "outputs": [],
   "source": [
    "df_filtered['selftext'] = df_filtered['selftext'].apply(lambda x: x.replace(\"\\n\",\" \"))"
   ],
   "metadata": {
    "collapsed": false,
    "pycharm": {
     "name": "#%%\n"
    }
   }
  },
  {
   "cell_type": "markdown",
   "source": [
    "<h4> Schreiben in csv Datei </h4>"
   ],
   "metadata": {
    "collapsed": false
   }
  },
  {
   "cell_type": "code",
   "execution_count": 13,
   "outputs": [],
   "source": [
    "df_filtered.to_csv('redditdaten.csv')\n"
   ],
   "metadata": {
    "collapsed": false,
    "pycharm": {
     "name": "#%%\n"
    }
   }
  }
 ],
 "metadata": {
  "kernelspec": {
   "display_name": "Python 3",
   "language": "python",
   "name": "python3"
  },
  "language_info": {
   "codemirror_mode": {
    "name": "ipython",
    "version": 2
   },
   "file_extension": ".py",
   "mimetype": "text/x-python",
   "name": "python",
   "nbconvert_exporter": "python",
   "pygments_lexer": "ipython2",
   "version": "2.7.6"
  }
 },
 "nbformat": 4,
 "nbformat_minor": 0
}