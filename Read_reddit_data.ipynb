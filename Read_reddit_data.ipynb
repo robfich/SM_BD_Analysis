{
 "cells": [
  {
   "cell_type": "markdown",
   "source": [
    "<h1>Reddit API</h1>"
   ],
   "metadata": {
    "collapsed": false,
    "pycharm": {
     "name": "#%% md\n"
    }
   }
  },
  {
   "cell_type": "markdown",
   "source": [
    "<h3>Imports</h3>"
   ],
   "metadata": {
    "collapsed": false
   }
  },
  {
   "cell_type": "code",
   "execution_count": 4,
   "outputs": [],
   "source": [
    "import pandas as pd\n",
    "from time import sleep\n",
    "from datetime import datetime\n",
    "import requests\n",
    "\n",
    "BEGINN_DATUM = int(datetime(year=2021, month=8, day=1).timestamp())\n",
    "ENDE_DATUM = int(datetime(year=2021, month=10, day=31).timestamp())\n",
    "\n",
    "SUBREDDITS = ['CryptoCurrency','Bitcoin','CryptoMarkets','Crypto','CryptoCurrencyTrading','CryptoCurrencies']"
   ],
   "metadata": {
    "collapsed": false,
    "pycharm": {
     "name": "#%%\n"
    }
   }
  },
  {
   "cell_type": "markdown",
   "source": [
    "<h3>Funktion zum Laden der Posts</h3>"
   ],
   "metadata": {
    "collapsed": false
   }
  },
  {
   "cell_type": "code",
   "execution_count": 5,
   "outputs": [],
   "source": [
    "def get_posts_for_time_period(sub, beginning, end=int(datetime.now().timestamp())):\n",
    "    url = \"https://apiv2.pushshift.io/reddit/submission/search/\" \\\n",
    "               \"?subreddit={0}\" \\\n",
    "               \"&limit=500\" \\\n",
    "               \"&after={1}\" \\\n",
    "               \"&before={2}\".format(sub, beginning, end)\n",
    "\n",
    "    response = requests.get(url)\n",
    "    if(response.status_code == 429):\n",
    "        sleep(1)\n",
    "        response = requests.get(url)\n",
    "\n",
    "    resp_json = response.json()\n",
    "\n",
    "    return resp_json['data']"
   ],
   "metadata": {
    "collapsed": false,
    "pycharm": {
     "name": "#%%\n"
    }
   }
  },
  {
   "cell_type": "markdown",
   "source": [
    "<h3>Hole Daten zu Posts</h3>"
   ],
   "metadata": {
    "collapsed": false
   }
  },
  {
   "cell_type": "code",
   "execution_count": 6,
   "outputs": [
    {
     "name": "stdout",
     "output_type": "stream",
     "text": [
      "Hole CryptoCurrency für 2021-08-01 01:47:37\n",
      "Hole CryptoCurrency für 2021-08-02 01:04:01\n",
      "Hole CryptoCurrency für 2021-08-03 01:14:45\n",
      "Hole CryptoCurrency für 2021-08-04 01:14:07\n",
      "Hole CryptoCurrency für 2021-08-05 00:52:27\n",
      "Hole CryptoCurrency für 2021-08-06 01:01:23\n",
      "Hole CryptoCurrency für 2021-08-07 00:44:37\n",
      "Hole CryptoCurrency für 2021-08-08 00:04:40\n",
      "Hole CryptoCurrency für 2021-08-09 00:00:29\n",
      "Hole CryptoCurrency für 2021-08-10 00:20:57\n",
      "Hole CryptoCurrency für 2021-08-11 00:45:42\n",
      "Hole CryptoCurrency für 2021-08-12 00:30:47\n",
      "Hole CryptoCurrency für 2021-08-13 00:32:16\n",
      "Hole CryptoCurrency für 2021-08-14 00:32:50\n",
      "Hole CryptoCurrency für 2021-08-15 00:51:47\n",
      "Hole CryptoCurrency für 2021-08-16 00:05:01\n",
      "Hole CryptoCurrency für 2021-08-17 00:28:36\n",
      "Hole CryptoCurrency für 2021-08-18 00:29:04\n",
      "Hole CryptoCurrency für 2021-08-19 00:41:27\n",
      "Hole CryptoCurrency für 2021-08-20 00:10:02\n",
      "Hole CryptoCurrency für 2021-08-21 00:03:04\n",
      "Hole CryptoCurrency für 2021-08-22 00:35:26\n",
      "Hole CryptoCurrency für 2021-08-23 00:18:05\n",
      "Hole CryptoCurrency für 2021-08-24 00:13:34\n",
      "Hole CryptoCurrency für 2021-08-25 00:24:15\n",
      "Hole CryptoCurrency für 2021-08-26 00:18:37\n",
      "Hole CryptoCurrency für 2021-08-27 00:46:38\n",
      "Hole CryptoCurrency für 2021-08-28 00:20:38\n",
      "Hole CryptoCurrency für 2021-08-29 00:23:21\n",
      "Hole CryptoCurrency für 2021-08-30 00:30:20\n",
      "Hole CryptoCurrency für 2021-08-31 00:34:37\n",
      "Hole CryptoCurrency für 2021-09-01 00:12:16\n",
      "Hole CryptoCurrency für 2021-09-02 01:00:57\n",
      "Hole CryptoCurrency für 2021-09-03 00:41:16\n",
      "Hole CryptoCurrency für 2021-09-04 01:09:12\n",
      "Hole CryptoCurrency für 2021-09-05 00:34:47\n",
      "Hole CryptoCurrency für 2021-09-06 00:26:24\n",
      "Hole CryptoCurrency für 2021-09-07 00:19:39\n",
      "Hole CryptoCurrency für 2021-09-08 00:40:46\n",
      "Hole CryptoCurrency für 2021-09-09 00:59:30\n",
      "Hole CryptoCurrency für 2021-09-10 00:52:23\n",
      "Hole CryptoCurrency für 2021-09-11 01:10:49\n",
      "Hole CryptoCurrency für 2021-09-12 01:11:12\n",
      "Hole CryptoCurrency für 2021-09-13 00:24:57\n",
      "Hole CryptoCurrency für 2021-09-14 00:11:42\n",
      "Hole CryptoCurrency für 2021-09-15 00:12:32\n",
      "Hole CryptoCurrency für 2021-09-16 00:49:24\n",
      "Hole CryptoCurrency für 2021-09-17 00:57:54\n",
      "Hole CryptoCurrency für 2021-09-18 00:39:01\n",
      "Hole CryptoCurrency für 2021-09-19 01:26:58\n",
      "Hole CryptoCurrency für 2021-09-20 00:11:42\n",
      "Hole CryptoCurrency für 2021-09-21 01:05:32\n",
      "Hole CryptoCurrency für 2021-09-22 00:18:45\n",
      "Hole CryptoCurrency für 2021-09-23 01:11:56\n",
      "Hole CryptoCurrency für 2021-09-24 00:38:50\n",
      "Hole CryptoCurrency für 2021-09-25 01:02:39\n",
      "Hole CryptoCurrency für 2021-09-26 00:55:16\n",
      "Hole CryptoCurrency für 2021-09-27 01:07:33\n",
      "Hole CryptoCurrency für 2021-09-28 01:02:21\n",
      "Hole CryptoCurrency für 2021-09-29 00:49:29\n",
      "Hole CryptoCurrency für 2021-09-30 00:43:44\n",
      "Hole CryptoCurrency für 2021-10-01 00:06:23\n",
      "Hole CryptoCurrency für 2021-10-02 01:09:06\n",
      "Hole CryptoCurrency für 2021-10-03 00:00:58\n",
      "Hole CryptoCurrency für 2021-10-04 00:51:24\n",
      "Hole CryptoCurrency für 2021-10-05 00:01:53\n",
      "Hole CryptoCurrency für 2021-10-06 00:45:15\n",
      "Hole CryptoCurrency für 2021-10-07 00:52:46\n",
      "Hole CryptoCurrency für 2021-10-08 00:19:35\n",
      "Hole CryptoCurrency für 2021-10-09 00:30:57\n",
      "Hole CryptoCurrency für 2021-10-10 00:10:52\n",
      "Hole CryptoCurrency für 2021-10-11 01:08:12\n",
      "Hole CryptoCurrency für 2021-10-12 00:31:40\n",
      "Hole CryptoCurrency für 2021-10-13 00:38:42\n",
      "Hole CryptoCurrency für 2021-10-14 01:01:35\n",
      "Hole CryptoCurrency für 2021-10-15 00:05:22\n",
      "Hole CryptoCurrency für 2021-10-16 01:03:20\n",
      "Hole CryptoCurrency für 2021-10-17 00:41:43\n",
      "Hole CryptoCurrency für 2021-10-18 00:39:41\n",
      "Hole CryptoCurrency für 2021-10-19 00:25:36\n",
      "Hole CryptoCurrency für 2021-10-20 00:09:09\n",
      "Hole CryptoCurrency für 2021-10-21 01:14:29\n",
      "Hole CryptoCurrency für 2021-10-22 01:12:23\n",
      "Hole CryptoCurrency für 2021-10-23 00:42:31\n",
      "Hole CryptoCurrency für 2021-10-24 01:26:13\n",
      "Hole CryptoCurrency für 2021-10-25 00:17:43\n",
      "Hole CryptoCurrency für 2021-10-26 00:05:52\n",
      "Hole CryptoCurrency für 2021-10-27 00:05:22\n",
      "Hole CryptoCurrency für 2021-10-28 00:35:56\n",
      "Hole CryptoCurrency für 2021-10-29 00:31:44\n",
      "Hole CryptoCurrency für 2021-10-30 00:56:53\n",
      "Hole Bitcoin für 2021-08-01 09:25:25\n",
      "Hole Bitcoin für 2021-08-02 00:20:11\n",
      "Hole Bitcoin für 2021-08-03 02:00:37\n",
      "Hole Bitcoin für 2021-08-04 03:14:26\n",
      "Hole Bitcoin für 2021-08-05 07:55:33\n",
      "Hole Bitcoin für 2021-08-06 10:26:40\n",
      "Hole Bitcoin für 2021-08-07 00:10:21\n",
      "Hole Bitcoin für 2021-08-08 00:21:34\n",
      "Hole Bitcoin für 2021-08-09 05:00:58\n",
      "Hole Bitcoin für 2021-08-10 07:38:24\n",
      "Hole Bitcoin für 2021-08-11 10:28:05\n",
      "Hole Bitcoin für 2021-08-12 09:22:03\n",
      "Hole Bitcoin für 2021-08-13 01:37:24\n",
      "Hole Bitcoin für 2021-08-14 05:44:37\n",
      "Hole Bitcoin für 2021-08-15 09:34:49\n",
      "Hole Bitcoin für 2021-08-16 02:26:26\n",
      "Hole Bitcoin für 2021-08-17 04:15:15\n",
      "Hole Bitcoin für 2021-08-18 08:03:06\n",
      "Hole Bitcoin für 2021-08-19 00:18:07\n",
      "Hole Bitcoin für 2021-08-20 01:16:47\n",
      "Hole Bitcoin für 2021-08-21 01:30:27\n",
      "Hole Bitcoin für 2021-08-22 02:33:47\n",
      "Hole Bitcoin für 2021-08-23 05:27:05\n",
      "Hole Bitcoin für 2021-08-24 04:19:37\n",
      "Hole Bitcoin für 2021-08-25 02:41:14\n",
      "Hole Bitcoin für 2021-08-26 10:06:44\n",
      "Hole Bitcoin für 2021-08-27 02:43:50\n",
      "Hole Bitcoin für 2021-08-28 07:57:32\n",
      "Hole Bitcoin für 2021-08-29 04:24:30\n",
      "Hole Bitcoin für 2021-08-30 05:15:14\n",
      "Hole Bitcoin für 2021-08-31 00:31:09\n",
      "Hole Bitcoin für 2021-09-01 04:36:15\n",
      "Hole Bitcoin für 2021-09-02 10:54:53\n",
      "Hole Bitcoin für 2021-09-03 07:04:10\n",
      "Hole Bitcoin für 2021-09-04 01:17:22\n",
      "Hole Bitcoin für 2021-09-05 00:34:51\n",
      "Hole Bitcoin für 2021-09-06 04:23:50\n",
      "Hole Bitcoin für 2021-09-07 00:45:19\n",
      "Hole Bitcoin für 2021-09-08 00:31:10\n",
      "Hole Bitcoin für 2021-09-09 04:00:51\n",
      "Hole Bitcoin für 2021-09-10 01:59:09\n",
      "Hole Bitcoin für 2021-09-11 04:32:50\n",
      "Hole Bitcoin für 2021-09-12 01:53:48\n",
      "Hole Bitcoin für 2021-09-13 01:19:21\n",
      "Hole Bitcoin für 2021-09-14 01:36:51\n",
      "Hole Bitcoin für 2021-09-15 04:09:35\n",
      "Hole Bitcoin für 2021-09-16 06:23:24\n",
      "Hole Bitcoin für 2021-09-17 04:55:03\n",
      "Hole Bitcoin für 2021-09-18 11:25:21\n",
      "Hole Bitcoin für 2021-09-19 07:32:15\n",
      "Hole Bitcoin für 2021-09-20 02:12:18\n",
      "Hole Bitcoin für 2021-09-21 01:28:31\n",
      "Hole Bitcoin für 2021-09-22 00:10:56\n",
      "Hole Bitcoin für 2021-09-23 06:43:38\n",
      "Hole Bitcoin für 2021-09-24 08:05:23\n",
      "Hole Bitcoin für 2021-09-25 03:03:02\n",
      "Hole Bitcoin für 2021-09-26 08:49:33\n",
      "Hole Bitcoin für 2021-09-27 05:02:05\n",
      "Hole Bitcoin für 2021-09-28 08:46:29\n",
      "Hole Bitcoin für 2021-09-29 00:26:21\n",
      "Hole Bitcoin für 2021-09-30 01:14:33\n",
      "Hole Bitcoin für 2021-10-01 02:59:28\n",
      "Hole Bitcoin für 2021-10-02 00:41:57\n",
      "Hole Bitcoin für 2021-10-03 09:08:38\n",
      "Hole Bitcoin für 2021-10-04 07:10:19\n",
      "Hole Bitcoin für 2021-10-05 11:46:07\n",
      "Hole Bitcoin für 2021-10-06 00:57:32\n",
      "Hole Bitcoin für 2021-10-07 03:41:08\n",
      "Hole Bitcoin für 2021-10-08 00:52:15\n",
      "Hole Bitcoin für 2021-10-09 00:37:20\n",
      "Hole Bitcoin für 2021-10-10 07:31:09\n",
      "Hole Bitcoin für 2021-10-11 03:34:06\n",
      "Hole Bitcoin für 2021-10-12 01:23:59\n",
      "Hole Bitcoin für 2021-10-13 01:52:58\n",
      "Hole Bitcoin für 2021-10-14 02:19:36\n",
      "Hole Bitcoin für 2021-10-15 00:55:38\n",
      "Hole Bitcoin für 2021-10-16 01:13:12\n",
      "Hole Bitcoin für 2021-10-17 06:46:27\n",
      "Hole Bitcoin für 2021-10-18 06:04:44\n",
      "Hole Bitcoin für 2021-10-19 05:28:55\n",
      "Hole Bitcoin für 2021-10-20 01:11:55\n",
      "Hole Bitcoin für 2021-10-21 04:23:34\n",
      "Hole Bitcoin für 2021-10-22 05:59:35\n",
      "Hole Bitcoin für 2021-10-23 03:33:07\n",
      "Hole Bitcoin für 2021-10-24 10:57:19\n",
      "Hole Bitcoin für 2021-10-25 04:58:19\n",
      "Hole Bitcoin für 2021-10-26 04:51:18\n",
      "Hole Bitcoin für 2021-10-27 01:24:33\n",
      "Hole Bitcoin für 2021-10-28 05:51:22\n",
      "Hole Bitcoin für 2021-10-29 03:48:43\n",
      "Hole Bitcoin für 2021-10-30 04:01:19\n",
      "Hole CryptoMarkets für 2021-08-01 20:40:27\n",
      "Hole CryptoMarkets für 2021-08-02 10:35:57\n",
      "Hole CryptoMarkets für 2021-08-03 08:26:00\n",
      "Hole CryptoMarkets für 2021-08-04 09:04:21\n",
      "Hole CryptoMarkets für 2021-08-05 07:10:17\n",
      "Hole CryptoMarkets für 2021-08-06 07:22:46\n",
      "Hole CryptoMarkets für 2021-08-07 09:56:08\n",
      "Hole CryptoMarkets für 2021-08-08 02:05:14\n",
      "Hole CryptoMarkets für 2021-08-09 10:18:38\n",
      "Hole CryptoMarkets für 2021-08-10 07:41:21\n",
      "Hole CryptoMarkets für 2021-08-11 05:31:42\n",
      "Hole CryptoMarkets für 2021-08-12 08:44:32\n",
      "Hole CryptoMarkets für 2021-08-13 09:57:41\n",
      "Hole CryptoMarkets für 2021-08-14 03:03:08\n",
      "Hole CryptoMarkets für 2021-08-15 15:34:06\n",
      "Hole CryptoMarkets für 2021-08-16 05:42:34\n",
      "Hole CryptoMarkets für 2021-08-17 09:42:29\n",
      "Hole CryptoMarkets für 2021-08-18 11:50:41\n",
      "Hole CryptoMarkets für 2021-08-19 14:36:50\n",
      "Hole CryptoMarkets für 2021-08-20 00:21:47\n",
      "Hole CryptoMarkets für 2021-08-21 04:11:38\n",
      "Hole CryptoMarkets für 2021-08-22 12:36:51\n",
      "Hole CryptoMarkets für 2021-08-23 01:41:35\n",
      "Hole CryptoMarkets für 2021-08-24 07:53:41\n",
      "Hole CryptoMarkets für 2021-08-25 07:40:54\n",
      "Hole CryptoMarkets für 2021-08-26 07:31:19\n",
      "Hole CryptoMarkets für 2021-08-27 08:51:54\n",
      "Hole CryptoMarkets für 2021-08-28 15:51:35\n",
      "Hole CryptoMarkets für 2021-08-29 12:14:09\n",
      "Hole CryptoMarkets für 2021-08-30 06:04:26\n",
      "Hole CryptoMarkets für 2021-08-31 10:19:03\n",
      "Hole CryptoMarkets für 2021-09-01 15:34:10\n",
      "Hole CryptoMarkets für 2021-09-02 03:47:42\n",
      "Hole CryptoMarkets für 2021-09-03 09:29:08\n",
      "Hole CryptoMarkets für 2021-09-04 16:01:41\n",
      "Hole CryptoMarkets für 2021-09-05 09:29:33\n",
      "Hole CryptoMarkets für 2021-09-06 00:57:40\n",
      "Hole CryptoMarkets für 2021-09-07 05:39:33\n",
      "Hole CryptoMarkets für 2021-09-08 05:27:41\n",
      "Hole CryptoMarkets für 2021-09-09 08:12:04\n",
      "Hole CryptoMarkets für 2021-09-10 10:05:47\n",
      "Hole CryptoMarkets für 2021-09-11 19:01:02\n",
      "Hole CryptoMarkets für 2021-09-12 12:24:41\n",
      "Hole CryptoMarkets für 2021-09-13 06:25:52\n",
      "Hole CryptoMarkets für 2021-09-14 07:10:17\n",
      "Hole CryptoMarkets für 2021-09-15 07:15:19\n",
      "Hole CryptoMarkets für 2021-09-16 05:28:17\n",
      "Hole CryptoMarkets für 2021-09-17 10:02:48\n",
      "Hole CryptoMarkets für 2021-09-18 17:28:32\n",
      "Hole CryptoMarkets für 2021-09-19 11:36:50\n",
      "Hole CryptoMarkets für 2021-09-20 07:05:27\n",
      "Hole CryptoMarkets für 2021-09-21 08:20:32\n",
      "Hole CryptoMarkets für 2021-09-22 10:50:07\n",
      "Hole CryptoMarkets für 2021-09-23 01:25:30\n",
      "Hole CryptoMarkets für 2021-09-24 02:46:22\n",
      "Hole CryptoMarkets für 2021-09-25 07:56:19\n",
      "Hole CryptoMarkets für 2021-09-26 18:36:13\n",
      "Hole CryptoMarkets für 2021-09-27 14:26:57\n",
      "Hole CryptoMarkets für 2021-09-28 07:24:50\n",
      "Hole CryptoMarkets für 2021-09-29 10:42:31\n",
      "Hole CryptoMarkets für 2021-09-30 15:28:23\n",
      "Hole CryptoMarkets für 2021-10-01 03:21:22\n",
      "Hole CryptoMarkets für 2021-10-02 11:24:38\n",
      "Hole CryptoMarkets für 2021-10-03 00:21:33\n",
      "Hole CryptoMarkets für 2021-10-04 07:56:10\n",
      "Hole CryptoMarkets für 2021-10-05 05:20:20\n",
      "Hole CryptoMarkets für 2021-10-06 00:39:00\n",
      "Hole CryptoMarkets für 2021-10-07 13:03:29\n",
      "Hole CryptoMarkets für 2021-10-08 08:42:43\n",
      "Hole CryptoMarkets für 2021-10-09 08:24:55\n",
      "Hole CryptoMarkets für 2021-10-10 13:38:27\n",
      "Hole CryptoMarkets für 2021-10-11 01:43:09\n",
      "Hole CryptoMarkets für 2021-10-12 02:45:10\n",
      "Hole CryptoMarkets für 2021-10-13 06:53:46\n",
      "Hole CryptoMarkets für 2021-10-14 03:20:56\n",
      "Hole CryptoMarkets für 2021-10-15 13:29:25\n",
      "Hole CryptoMarkets für 2021-10-16 14:02:42\n",
      "Hole CryptoMarkets für 2021-10-17 08:23:46\n",
      "Hole CryptoMarkets für 2021-10-18 16:36:23\n",
      "Hole CryptoMarkets für 2021-10-19 01:49:47\n",
      "Hole CryptoMarkets für 2021-10-20 06:16:20\n",
      "Hole CryptoMarkets für 2021-10-21 01:09:57\n",
      "Hole CryptoMarkets für 2021-10-22 15:01:45\n",
      "Hole CryptoMarkets für 2021-10-23 01:25:31\n",
      "Hole CryptoMarkets für 2021-10-24 12:20:59\n",
      "Hole CryptoMarkets für 2021-10-25 01:58:10\n",
      "Hole CryptoMarkets für 2021-10-26 01:01:09\n",
      "Hole CryptoMarkets für 2021-10-27 11:11:01\n",
      "Hole CryptoMarkets für 2021-10-28 04:25:41\n",
      "Hole CryptoMarkets für 2021-10-29 09:08:39\n",
      "Hole CryptoMarkets für 2021-10-30 01:25:16\n",
      "Hole Crypto für 2021-09-23 02:30:35\n",
      "Hole Crypto für 2021-10-30 21:52:42\n",
      "Hole CryptoCurrencyTrading für 2021-08-01 05:46:10\n",
      "Hole CryptoCurrencyTrading für 2021-08-02 11:09:30\n",
      "Hole CryptoCurrencyTrading für 2021-08-03 02:09:30\n",
      "Hole CryptoCurrencyTrading für 2021-08-04 11:13:01\n",
      "Hole CryptoCurrencyTrading für 2021-08-05 05:28:43\n",
      "Hole CryptoCurrencyTrading für 2021-08-06 06:30:17\n",
      "Hole CryptoCurrencyTrading für 2021-08-07 12:24:18\n",
      "Hole CryptoCurrencyTrading für 2021-08-08 11:45:59\n",
      "Hole CryptoCurrencyTrading für 2021-08-09 08:42:21\n",
      "Hole CryptoCurrencyTrading für 2021-08-10 03:14:53\n",
      "Hole CryptoCurrencyTrading für 2021-08-11 14:37:43\n",
      "Hole CryptoCurrencyTrading für 2021-08-12 08:42:16\n",
      "Hole CryptoCurrencyTrading für 2021-08-13 02:37:57\n",
      "Hole CryptoCurrencyTrading für 2021-08-14 06:04:30\n",
      "Hole CryptoCurrencyTrading für 2021-08-15 11:39:16\n",
      "Hole CryptoCurrencyTrading für 2021-08-16 08:50:31\n",
      "Hole CryptoCurrencyTrading für 2021-08-17 00:28:31\n",
      "Hole CryptoCurrencyTrading für 2021-08-18 00:53:09\n",
      "Hole CryptoCurrencyTrading für 2021-08-19 04:22:32\n",
      "Hole CryptoCurrencyTrading für 2021-08-20 02:09:19\n",
      "Hole CryptoCurrencyTrading für 2021-08-21 00:07:11\n",
      "Hole CryptoCurrencyTrading für 2021-08-22 12:34:29\n",
      "Hole CryptoCurrencyTrading für 2021-08-23 05:39:40\n",
      "Hole CryptoCurrencyTrading für 2021-08-24 06:11:25\n",
      "Hole CryptoCurrencyTrading für 2021-08-25 04:01:34\n",
      "Hole CryptoCurrencyTrading für 2021-08-26 05:29:00\n",
      "Hole CryptoCurrencyTrading für 2021-08-27 03:55:09\n",
      "Hole CryptoCurrencyTrading für 2021-08-28 08:27:27\n",
      "Hole CryptoCurrencyTrading für 2021-08-29 06:42:03\n",
      "Hole CryptoCurrencyTrading für 2021-08-30 00:34:05\n",
      "Hole CryptoCurrencyTrading für 2021-08-31 05:33:51\n",
      "Hole CryptoCurrencyTrading für 2021-09-01 10:07:14\n",
      "Hole CryptoCurrencyTrading für 2021-09-02 00:57:07\n",
      "Hole CryptoCurrencyTrading für 2021-09-03 11:19:46\n",
      "Hole CryptoCurrencyTrading für 2021-09-04 07:28:03\n",
      "Hole CryptoCurrencyTrading für 2021-09-05 13:13:57\n",
      "Hole CryptoCurrencyTrading für 2021-09-06 09:51:44\n",
      "Hole CryptoCurrencyTrading für 2021-09-07 02:07:04\n",
      "Hole CryptoCurrencyTrading für 2021-09-08 10:50:31\n",
      "Hole CryptoCurrencyTrading für 2021-09-09 05:36:30\n",
      "Hole CryptoCurrencyTrading für 2021-09-10 09:45:44\n",
      "Hole CryptoCurrencyTrading für 2021-09-11 10:43:38\n",
      "Hole CryptoCurrencyTrading für 2021-09-12 18:14:16\n",
      "Hole CryptoCurrencyTrading für 2021-09-13 09:50:36\n",
      "Hole CryptoCurrencyTrading für 2021-09-14 11:13:16\n",
      "Hole CryptoCurrencyTrading für 2021-09-15 03:13:13\n",
      "Hole CryptoCurrencyTrading für 2021-09-16 00:49:00\n",
      "Hole CryptoCurrencyTrading für 2021-09-17 02:51:28\n",
      "Hole CryptoCurrencyTrading für 2021-09-18 00:31:10\n",
      "Hole CryptoCurrencyTrading für 2021-09-19 01:20:42\n",
      "Hole CryptoCurrencyTrading für 2021-09-20 05:24:50\n",
      "Hole CryptoCurrencyTrading für 2021-09-21 04:44:46\n",
      "Hole CryptoCurrencyTrading für 2021-09-22 07:08:09\n",
      "Hole CryptoCurrencyTrading für 2021-09-23 11:38:14\n",
      "Hole CryptoCurrencyTrading für 2021-09-24 04:10:34\n",
      "Hole CryptoCurrencyTrading für 2021-09-25 00:53:20\n",
      "Hole CryptoCurrencyTrading für 2021-09-26 11:47:51\n",
      "Hole CryptoCurrencyTrading für 2021-09-27 12:15:04\n",
      "Hole CryptoCurrencyTrading für 2021-09-28 03:10:06\n",
      "Hole CryptoCurrencyTrading für 2021-09-29 04:48:07\n",
      "Hole CryptoCurrencyTrading für 2021-09-30 02:16:11\n",
      "Hole CryptoCurrencyTrading für 2021-10-01 09:39:03\n",
      "Hole CryptoCurrencyTrading für 2021-10-02 06:33:22\n",
      "Hole CryptoCurrencyTrading für 2021-10-03 10:39:59\n",
      "Hole CryptoCurrencyTrading für 2021-10-04 07:12:07\n",
      "Hole CryptoCurrencyTrading für 2021-10-05 10:47:17\n",
      "Hole CryptoCurrencyTrading für 2021-10-06 10:02:15\n",
      "Hole CryptoCurrencyTrading für 2021-10-07 07:08:55\n",
      "Hole CryptoCurrencyTrading für 2021-10-08 08:49:28\n",
      "Hole CryptoCurrencyTrading für 2021-10-09 08:36:12\n",
      "Hole CryptoCurrencyTrading für 2021-10-10 10:56:51\n",
      "Hole CryptoCurrencyTrading für 2021-10-11 12:25:25\n",
      "Hole CryptoCurrencyTrading für 2021-10-12 11:37:25\n",
      "Hole CryptoCurrencyTrading für 2021-10-13 08:01:53\n",
      "Hole CryptoCurrencyTrading für 2021-10-14 03:17:01\n",
      "Hole CryptoCurrencyTrading für 2021-10-15 02:53:07\n",
      "Hole CryptoCurrencyTrading für 2021-10-16 02:01:05\n",
      "Hole CryptoCurrencyTrading für 2021-10-17 17:38:32\n",
      "Hole CryptoCurrencyTrading für 2021-10-18 10:32:40\n",
      "Hole CryptoCurrencyTrading für 2021-10-19 13:21:46\n",
      "Hole CryptoCurrencyTrading für 2021-10-20 13:53:12\n",
      "Hole CryptoCurrencyTrading für 2021-10-21 04:59:44\n",
      "Hole CryptoCurrencyTrading für 2021-10-22 10:02:34\n",
      "Hole CryptoCurrencyTrading für 2021-10-23 12:40:44\n",
      "Hole CryptoCurrencyTrading für 2021-10-24 17:07:34\n",
      "Hole CryptoCurrencyTrading für 2021-10-25 06:25:07\n",
      "Hole CryptoCurrencyTrading für 2021-10-26 02:52:50\n",
      "Hole CryptoCurrencyTrading für 2021-10-27 05:25:12\n",
      "Hole CryptoCurrencyTrading für 2021-10-28 01:58:56\n",
      "Hole CryptoCurrencyTrading für 2021-10-29 05:23:07\n",
      "Hole CryptoCurrencyTrading für 2021-10-30 00:24:25\n",
      "Hole CryptoCurrencies für 2021-08-02 05:52:34\n",
      "Hole CryptoCurrencies für 2021-08-03 16:56:47\n",
      "Hole CryptoCurrencies für 2021-08-04 13:14:27\n",
      "Hole CryptoCurrencies für 2021-08-05 10:27:08\n",
      "Hole CryptoCurrencies für 2021-08-06 16:03:01\n",
      "Hole CryptoCurrencies für 2021-08-07 12:49:34\n",
      "Hole CryptoCurrencies für 2021-08-08 07:19:09\n",
      "Hole CryptoCurrencies für 2021-08-09 06:32:14\n",
      "Hole CryptoCurrencies für 2021-08-10 15:55:43\n",
      "Hole CryptoCurrencies für 2021-08-11 09:58:34\n",
      "Hole CryptoCurrencies für 2021-08-12 19:23:15\n",
      "Hole CryptoCurrencies für 2021-08-13 19:16:39\n",
      "Hole CryptoCurrencies für 2021-08-14 16:04:51\n",
      "Hole CryptoCurrencies für 2021-08-15 17:10:58\n",
      "Hole CryptoCurrencies für 2021-08-16 15:50:25\n",
      "Hole CryptoCurrencies für 2021-08-17 11:21:55\n",
      "Hole CryptoCurrencies für 2021-08-18 00:52:03\n",
      "Hole CryptoCurrencies für 2021-08-19 17:49:19\n",
      "Hole CryptoCurrencies für 2021-08-20 15:52:46\n",
      "Hole CryptoCurrencies für 2021-08-21 14:55:43\n",
      "Hole CryptoCurrencies für 2021-08-22 11:19:36\n",
      "Hole CryptoCurrencies für 2021-08-23 11:26:02\n",
      "Hole CryptoCurrencies für 2021-08-24 01:13:20\n",
      "Hole CryptoCurrencies für 2021-08-25 15:23:47\n",
      "Hole CryptoCurrencies für 2021-08-26 14:26:01\n",
      "Hole CryptoCurrencies für 2021-08-27 08:22:28\n",
      "Hole CryptoCurrencies für 2021-08-28 01:00:23\n",
      "Hole CryptoCurrencies für 2021-08-29 00:21:15\n",
      "Hole CryptoCurrencies für 2021-08-30 09:01:26\n",
      "Hole CryptoCurrencies für 2021-08-31 08:46:41\n",
      "Hole CryptoCurrencies für 2021-09-01 05:22:55\n",
      "Hole CryptoCurrencies für 2021-09-02 06:36:59\n",
      "Hole CryptoCurrencies für 2021-09-03 00:10:41\n",
      "Hole CryptoCurrencies für 2021-09-05 03:19:04\n",
      "Hole CryptoCurrencies für 2021-09-06 09:23:41\n",
      "Hole CryptoCurrencies für 2021-09-07 07:40:26\n",
      "Hole CryptoCurrencies für 2021-09-08 18:25:43\n",
      "Hole CryptoCurrencies für 2021-09-09 15:51:12\n",
      "Hole CryptoCurrencies für 2021-09-10 12:10:17\n",
      "Hole CryptoCurrencies für 2021-09-11 17:15:11\n",
      "Hole CryptoCurrencies für 2021-09-12 17:31:05\n",
      "Hole CryptoCurrencies für 2021-09-13 15:33:06\n",
      "Hole CryptoCurrencies für 2021-09-14 08:45:07\n",
      "Hole CryptoCurrencies für 2021-09-15 00:59:56\n",
      "Hole CryptoCurrencies für 2021-09-16 14:45:33\n",
      "Hole CryptoCurrencies für 2021-09-17 15:03:00\n",
      "Hole CryptoCurrencies für 2021-09-18 20:30:40\n",
      "Hole CryptoCurrencies für 2021-09-20 04:35:26\n",
      "Hole CryptoCurrencies für 2021-09-21 06:17:44\n",
      "Hole CryptoCurrencies für 2021-09-22 02:21:54\n",
      "Hole CryptoCurrencies für 2021-09-23 20:19:50\n",
      "Hole CryptoCurrencies für 2021-09-24 19:20:25\n",
      "Hole CryptoCurrencies für 2021-09-26 00:59:14\n",
      "Hole CryptoCurrencies für 2021-09-27 13:59:30\n",
      "Hole CryptoCurrencies für 2021-09-28 11:34:54\n",
      "Hole CryptoCurrencies für 2021-09-29 14:25:55\n",
      "Hole CryptoCurrencies für 2021-09-30 22:31:16\n",
      "Hole CryptoCurrencies für 2021-10-02 13:40:52\n",
      "Hole CryptoCurrencies für 2021-10-03 19:48:27\n",
      "Hole CryptoCurrencies für 2021-10-04 21:33:40\n",
      "Hole CryptoCurrencies für 2021-10-05 20:54:51\n",
      "Hole CryptoCurrencies für 2021-10-06 22:41:59\n",
      "Hole CryptoCurrencies für 2021-10-07 23:52:49\n",
      "Hole CryptoCurrencies für 2021-10-09 02:08:36\n",
      "Hole CryptoCurrencies für 2021-10-10 08:34:46\n",
      "Hole CryptoCurrencies für 2021-10-11 13:06:06\n",
      "Hole CryptoCurrencies für 2021-10-12 12:24:52\n",
      "Hole CryptoCurrencies für 2021-10-13 15:35:11\n",
      "Hole CryptoCurrencies für 2021-10-14 12:51:03\n",
      "Hole CryptoCurrencies für 2021-10-15 09:35:23\n",
      "Hole CryptoCurrencies für 2021-10-16 02:58:55\n",
      "Hole CryptoCurrencies für 2021-10-17 10:02:58\n",
      "Hole CryptoCurrencies für 2021-10-18 17:44:28\n",
      "Hole CryptoCurrencies für 2021-10-19 18:31:34\n",
      "Hole CryptoCurrencies für 2021-10-20 18:00:52\n",
      "Hole CryptoCurrencies für 2021-10-21 16:54:40\n",
      "Hole CryptoCurrencies für 2021-10-22 16:23:16\n",
      "Hole CryptoCurrencies für 2021-10-23 17:52:58\n",
      "Hole CryptoCurrencies für 2021-10-25 03:27:55\n",
      "Hole CryptoCurrencies für 2021-10-26 02:00:34\n",
      "Hole CryptoCurrencies für 2021-10-27 18:53:51\n",
      "Hole CryptoCurrencies für 2021-10-28 14:08:03\n",
      "Hole CryptoCurrencies für 2021-10-29 13:44:48\n",
      "Hole CryptoCurrencies für 2021-10-30 08:45:27\n"
     ]
    }
   ],
   "source": [
    "all_data = None\n",
    "for subreddit in SUBREDDITS:\n",
    "    beginning_timestamp = BEGINN_DATUM\n",
    "    end_timestamp = ENDE_DATUM\n",
    "    data = get_posts_for_time_period(subreddit, beginning_timestamp, end_timestamp)\n",
    "    startday= 0\n",
    "    if all_data == None:\n",
    "        all_data= data\n",
    "    else:\n",
    "        all_data.extend(data)\n",
    "    while len(data) >= 50:\n",
    "        # go back for more data\n",
    "        last_one = data[len(data)-1]\n",
    "        beginning_timestamp = last_one['created_utc'] + 1\n",
    "        datetime = datetime.fromtimestamp(beginning_timestamp)\n",
    "        if datetime.day != startday:\n",
    "            print('Hole ' + subreddit +' für ' + str(datetime))\n",
    "            startday = datetime.day\n",
    "        data = get_posts_for_time_period(sub=subreddit, beginning=beginning_timestamp, end=end_timestamp)\n",
    "        all_data.extend(data)"
   ],
   "metadata": {
    "collapsed": false,
    "pycharm": {
     "name": "#%%\n"
    }
   }
  },
  {
   "cell_type": "markdown",
   "source": [
    "<h3>Lege benötigte Daten in Datenframe ab</h3>"
   ],
   "metadata": {
    "collapsed": false
   }
  },
  {
   "cell_type": "code",
   "execution_count": null,
   "outputs": [],
   "source": [
    "df = pd.DataFrame()  # initialize dataframe\n",
    "\n",
    "for post in all_data:\n",
    "    if 'selftext' in post:\n",
    "        df = df.append({\n",
    "            'subreddit': post['subreddit'],\n",
    "            'title': post['title'],\n",
    "            'selftext': post['selftext'],\n",
    "            'upvoteRatio': post['upvote_ratio'],\n",
    "            'created': datetime.fromtimestamp(post['created_utc'])\n",
    "        }, ignore_index=True)\n",
    "\n",
    "df.head()"
   ],
   "metadata": {
    "collapsed": false,
    "pycharm": {
     "name": "#%%\n",
     "is_executing": true
    }
   }
  },
  {
   "cell_type": "markdown",
   "source": [
    "<h2> Preprocessing </h2>"
   ],
   "metadata": {
    "collapsed": false,
    "pycharm": {
     "name": "#%% md\n"
    }
   }
  },
  {
   "cell_type": "markdown",
   "source": [
    "<h4> Filtern auf Subreddit </h4>"
   ],
   "metadata": {
    "collapsed": false
   }
  },
  {
   "cell_type": "code",
   "source": [
    "df_filtered = df[df['subreddit'].apply(lambda x: x in SUBREDDITS)]"
   ],
   "metadata": {
    "collapsed": false,
    "pycharm": {
     "name": "#%%\n",
     "is_executing": true
    }
   },
   "execution_count": null,
   "outputs": []
  },
  {
   "cell_type": "markdown",
   "source": [
    "<h4> Entfernen Posts ohne Text </h4>"
   ],
   "metadata": {
    "collapsed": false,
    "pycharm": {
     "name": "#%% md\n"
    }
   }
  },
  {
   "cell_type": "code",
   "execution_count": null,
   "outputs": [],
   "source": [
    "df_filtered = df_filtered[df_filtered['selftext']!='[removed]']\n",
    "df_filtered = df_filtered[df_filtered['selftext']!='']"
   ],
   "metadata": {
    "collapsed": false,
    "pycharm": {
     "name": "#%%\n",
     "is_executing": true
    }
   }
  },
  {
   "cell_type": "markdown",
   "source": [
    "<h4> Entfernen der Umbrüche </h4>"
   ],
   "metadata": {
    "collapsed": false
   }
  },
  {
   "cell_type": "code",
   "execution_count": null,
   "outputs": [],
   "source": [
    "df_filtered['selftext'] = df_filtered['selftext'].apply(lambda x: x.replace(\"\\n\",\" \"))"
   ],
   "metadata": {
    "collapsed": false,
    "pycharm": {
     "name": "#%%\n",
     "is_executing": true
    }
   }
  },
  {
   "cell_type": "markdown",
   "source": [
    "<h4> Schreiben in csv Datei </h4>"
   ],
   "metadata": {
    "collapsed": false
   }
  },
  {
   "cell_type": "code",
   "execution_count": null,
   "outputs": [],
   "source": [
    "df_filtered.to_csv('redditdaten.csv')"
   ],
   "metadata": {
    "collapsed": false,
    "pycharm": {
     "name": "#%%\n",
     "is_executing": true
    }
   }
  },
  {
   "cell_type": "code",
   "execution_count": null,
   "outputs": [],
   "source": [
    "df.to_csv('unfiltered.csv')"
   ],
   "metadata": {
    "collapsed": false,
    "pycharm": {
     "name": "#%%\n",
     "is_executing": true
    }
   }
  }
 ],
 "metadata": {
  "kernelspec": {
   "display_name": "Python 3",
   "language": "python",
   "name": "python3"
  },
  "language_info": {
   "codemirror_mode": {
    "name": "ipython",
    "version": 2
   },
   "file_extension": ".py",
   "mimetype": "text/x-python",
   "name": "python",
   "nbconvert_exporter": "python",
   "pygments_lexer": "ipython2",
   "version": "2.7.6"
  }
 },
 "nbformat": 4,
 "nbformat_minor": 0
}