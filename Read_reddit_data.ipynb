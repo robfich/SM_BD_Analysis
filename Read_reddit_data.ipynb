{
 "cells": [
  {
   "cell_type": "markdown",
   "source": [
    "<h1>Reddit API</h1>"
   ],
   "metadata": {
    "collapsed": false,
    "pycharm": {
     "name": "#%% md\n"
    }
   }
  },
  {
   "cell_type": "markdown",
   "source": [
    "<h3>Imports</h3>"
   ],
   "metadata": {
    "collapsed": false
   }
  },
  {
   "cell_type": "code",
   "execution_count": 1,
   "outputs": [],
   "source": [
    "import pandas as pd\n",
    "from time import sleep\n",
    "from datetime import datetime\n",
    "import requests\n",
    "\n",
    "BEGINN_DATUM = int(datetime(year=2021, month=8, day=1).timestamp())\n",
    "ENDE_DATUM = int(datetime(year=2021, month=10, day=31).timestamp())\n",
    "\n",
    "SUBREDDITS = ['CryptoCurrency','Bitcoin','CryptoMarkets','Crypto','CryptoCurrencyTrading','CryptoCurrencies']"
   ],
   "metadata": {
    "collapsed": false,
    "pycharm": {
     "name": "#%%\n"
    }
   }
  },
  {
   "cell_type": "markdown",
   "source": [
    "<h3>Funktion zum Laden der Posts</h3>"
   ],
   "metadata": {
    "collapsed": false
   }
  },
  {
   "cell_type": "code",
   "execution_count": 2,
   "outputs": [],
   "source": [
    "def get_posts_for_time_period(sub, beginning, end=int(datetime.now().timestamp())):\n",
    "    url = \"https://apiv2.pushshift.io/reddit/submission/search/\" \\\n",
    "               \"?subreddit={0}\" \\\n",
    "               \"&limit=500\" \\\n",
    "               \"&after={1}\" \\\n",
    "               \"&before={2}\".format(sub, beginning, end)\n",
    "\n",
    "    response = requests.get(url)\n",
    "    if(response.status_code == 429):\n",
    "        sleep(0.5)\n",
    "        response = requests.get(url)\n",
    "\n",
    "    resp_json = response.json()\n",
    "\n",
    "    return resp_json['data']"
   ],
   "metadata": {
    "collapsed": false,
    "pycharm": {
     "name": "#%%\n"
    }
   }
  },
  {
   "cell_type": "markdown",
   "source": [
    "<h3>Hole Daten zu Posts</h3>"
   ],
   "metadata": {
    "collapsed": false
   }
  },
  {
   "cell_type": "code",
   "execution_count": 3,
   "outputs": [
    {
     "name": "stdout",
     "output_type": "stream",
     "text": [
      "Hole CryptoCurrency für 2021-08-01 01:47:37\n",
      "Hole CryptoCurrency für 2021-08-01 03:45:51\n",
      "Hole CryptoCurrency für 2021-08-01 06:17:07\n",
      "Hole CryptoCurrency für 2021-08-01 08:00:17\n",
      "Hole CryptoCurrency für 2021-08-01 09:53:11\n",
      "Hole CryptoCurrency für 2021-08-01 12:06:54\n",
      "Hole CryptoCurrency für 2021-08-01 14:02:29\n",
      "Hole CryptoCurrency für 2021-08-01 15:31:25\n",
      "Hole CryptoCurrency für 2021-08-01 16:57:03\n",
      "Hole CryptoCurrency für 2021-08-01 18:17:41\n",
      "Hole CryptoCurrency für 2021-08-01 19:42:38\n",
      "Hole CryptoCurrency für 2021-08-01 21:00:05\n",
      "Hole CryptoCurrency für 2021-08-01 22:14:21\n",
      "Hole CryptoCurrency für 2021-08-01 23:54:25\n",
      "Hole Bitcoin für 2021-08-01 01:47:37\n",
      "Hole Bitcoin für 2021-08-01 12:01:24\n",
      "Hole Bitcoin für 2021-08-01 18:27:28\n",
      "Hole Bitcoin für 2021-08-01 23:47:46\n",
      "Hole CryptoMarkets für 2021-08-01 01:47:37\n",
      "Hole CryptoMarkets für 2021-08-01 21:39:10\n",
      "Hole Crypto für 2021-08-01 01:47:37\n",
      "Hole CryptoCurrencyTrading für 2021-08-01 01:47:37\n",
      "Hole CryptoCurrencyTrading für 2021-08-01 06:40:48\n",
      "Hole CryptoCurrencyTrading für 2021-08-01 11:51:57\n",
      "Hole CryptoCurrencyTrading für 2021-08-01 15:14:07\n",
      "Hole CryptoCurrencyTrading für 2021-08-01 18:39:45\n",
      "Hole CryptoCurrencyTrading für 2021-08-01 23:47:13\n",
      "Hole CryptoCurrencies für 2021-08-01 01:47:37\n",
      "Hole CryptoCurrencies für 2021-08-01 23:57:32\n"
     ]
    }
   ],
   "source": [
    "all_data = None\n",
    "for subreddit in SUBREDDITS:\n",
    "    beginning_timestamp = BEGINN_DATUM\n",
    "    end_timestamp = ENDE_DATUM\n",
    "    data = get_posts_for_time_period(\"CryptoCurrency\", beginning_timestamp, end_timestamp)\n",
    "    if all_data == None:\n",
    "        all_data= data\n",
    "    else:\n",
    "        all_data.extend(data)\n",
    "    while len(data) >= 50:\n",
    "        # go back for more data\n",
    "        last_one = data[len(data)-1]\n",
    "        beginning_timestamp = last_one['created_utc'] + 1\n",
    "        print('Hole '+subreddit+' für '+str(datetime.fromtimestamp(beginning_timestamp)))\n",
    "        data = get_posts_for_time_period(sub=subreddit, beginning=beginning_timestamp, end=end_timestamp)\n",
    "        all_data.extend(data)"
   ],
   "metadata": {
    "collapsed": false,
    "pycharm": {
     "name": "#%%\n"
    }
   }
  },
  {
   "cell_type": "markdown",
   "source": [
    "<h3>Lege benötigte Daten in Datenframe ab</h3>"
   ],
   "metadata": {
    "collapsed": false
   }
  },
  {
   "cell_type": "code",
   "execution_count": 4,
   "outputs": [
    {
     "data": {
      "text/plain": "              created                                           selftext  \\\n0 2021-08-01 00:00:58                                                      \n1 2021-08-01 00:01:09                                          [removed]   \n2 2021-08-01 00:01:10                                          [removed]   \n3 2021-08-01 00:01:27  We’ve all been there seeing a massive pump of ...   \n4 2021-08-01 00:01:50  Almost everyones goal would be to achieve bein...   \n\n        subreddit                                              title  \\\n0  CryptoCurrency  Bitcoin Mining Difficulty Increases For First ...   \n1  CryptoCurrency                               Sunsetcrypto Finance   \n2  CryptoCurrency  Can anyone give info about bnb diamond? Is thi...   \n3  CryptoCurrency  Don’t Go Chasing Waterfalls Because You Will E...   \n4  CryptoCurrency  Financial independence is the goal, but what t...   \n\n   upvoteRatio  \n0          1.0  \n1          1.0  \n2          1.0  \n3          1.0  \n4          1.0  ",
      "text/html": "<div>\n<style scoped>\n    .dataframe tbody tr th:only-of-type {\n        vertical-align: middle;\n    }\n\n    .dataframe tbody tr th {\n        vertical-align: top;\n    }\n\n    .dataframe thead th {\n        text-align: right;\n    }\n</style>\n<table border=\"1\" class=\"dataframe\">\n  <thead>\n    <tr style=\"text-align: right;\">\n      <th></th>\n      <th>created</th>\n      <th>selftext</th>\n      <th>subreddit</th>\n      <th>title</th>\n      <th>upvoteRatio</th>\n    </tr>\n  </thead>\n  <tbody>\n    <tr>\n      <th>0</th>\n      <td>2021-08-01 00:00:58</td>\n      <td></td>\n      <td>CryptoCurrency</td>\n      <td>Bitcoin Mining Difficulty Increases For First ...</td>\n      <td>1.0</td>\n    </tr>\n    <tr>\n      <th>1</th>\n      <td>2021-08-01 00:01:09</td>\n      <td>[removed]</td>\n      <td>CryptoCurrency</td>\n      <td>Sunsetcrypto Finance</td>\n      <td>1.0</td>\n    </tr>\n    <tr>\n      <th>2</th>\n      <td>2021-08-01 00:01:10</td>\n      <td>[removed]</td>\n      <td>CryptoCurrency</td>\n      <td>Can anyone give info about bnb diamond? Is thi...</td>\n      <td>1.0</td>\n    </tr>\n    <tr>\n      <th>3</th>\n      <td>2021-08-01 00:01:27</td>\n      <td>We’ve all been there seeing a massive pump of ...</td>\n      <td>CryptoCurrency</td>\n      <td>Don’t Go Chasing Waterfalls Because You Will E...</td>\n      <td>1.0</td>\n    </tr>\n    <tr>\n      <th>4</th>\n      <td>2021-08-01 00:01:50</td>\n      <td>Almost everyones goal would be to achieve bein...</td>\n      <td>CryptoCurrency</td>\n      <td>Financial independence is the goal, but what t...</td>\n      <td>1.0</td>\n    </tr>\n  </tbody>\n</table>\n</div>"
     },
     "execution_count": 4,
     "metadata": {},
     "output_type": "execute_result"
    }
   ],
   "source": [
    "df = pd.DataFrame()  # initialize dataframe\n",
    "\n",
    "for post in all_data:\n",
    "    if 'selftext' in post:\n",
    "        df = df.append({\n",
    "            'subreddit': post['subreddit'],\n",
    "            'title': post['title'],\n",
    "            'selftext': post['selftext'],\n",
    "            'upvoteRatio': post['upvote_ratio'],\n",
    "            'created': datetime.fromtimestamp(post['created_utc'])\n",
    "        }, ignore_index=True)\n",
    "\n",
    "df.head()"
   ],
   "metadata": {
    "collapsed": false,
    "pycharm": {
     "name": "#%%\n"
    }
   }
  },
  {
   "cell_type": "markdown",
   "source": [
    "<h2> Preprocessing </h2>"
   ],
   "metadata": {
    "collapsed": false,
    "pycharm": {
     "name": "#%% md\n"
    }
   }
  },
  {
   "cell_type": "markdown",
   "source": [
    "<h4> Filtern auf Subreddit </h4>"
   ],
   "metadata": {
    "collapsed": false
   }
  },
  {
   "cell_type": "code",
   "source": [
    "df_filtered = df[df['subreddit'].apply(lambda x: x in SUBREDDITS)]"
   ],
   "metadata": {
    "collapsed": false,
    "pycharm": {
     "name": "#%%\n"
    }
   },
   "execution_count": 5,
   "outputs": []
  },
  {
   "cell_type": "markdown",
   "source": [
    "<h4> Entfernen Posts ohne Text </h4>"
   ],
   "metadata": {
    "collapsed": false,
    "pycharm": {
     "name": "#%% md\n"
    }
   }
  },
  {
   "cell_type": "code",
   "execution_count": 6,
   "outputs": [],
   "source": [
    "df_filtered = df_filtered[df_filtered['selftext']!='[removed]']\n",
    "df_filtered = df_filtered[df_filtered['selftext']!='']"
   ],
   "metadata": {
    "collapsed": false,
    "pycharm": {
     "name": "#%%\n"
    }
   }
  },
  {
   "cell_type": "markdown",
   "source": [
    "<h4> Entfernen der Umbrüche </h4>"
   ],
   "metadata": {
    "collapsed": false
   }
  },
  {
   "cell_type": "code",
   "execution_count": 7,
   "outputs": [],
   "source": [
    "df_filtered['selftext'] = df_filtered['selftext'].apply(lambda x: x.replace(\"\\n\",\" \"))"
   ],
   "metadata": {
    "collapsed": false,
    "pycharm": {
     "name": "#%%\n"
    }
   }
  },
  {
   "cell_type": "markdown",
   "source": [
    "<h4> Schreiben in csv Datei </h4>"
   ],
   "metadata": {
    "collapsed": false
   }
  },
  {
   "cell_type": "code",
   "execution_count": 8,
   "outputs": [],
   "source": [
    "df_filtered.to_csv('redditdaten.csv')"
   ],
   "metadata": {
    "collapsed": false,
    "pycharm": {
     "name": "#%%\n"
    }
   }
  },
  {
   "cell_type": "code",
   "execution_count": 9,
   "outputs": [],
   "source": [
    "df.to_csv('unfiltered.csv')"
   ],
   "metadata": {
    "collapsed": false,
    "pycharm": {
     "name": "#%%\n"
    }
   }
  }
 ],
 "metadata": {
  "kernelspec": {
   "display_name": "Python 3",
   "language": "python",
   "name": "python3"
  },
  "language_info": {
   "codemirror_mode": {
    "name": "ipython",
    "version": 2
   },
   "file_extension": ".py",
   "mimetype": "text/x-python",
   "name": "python",
   "nbconvert_exporter": "python",
   "pygments_lexer": "ipython2",
   "version": "2.7.6"
  }
 },
 "nbformat": 4,
 "nbformat_minor": 0
}